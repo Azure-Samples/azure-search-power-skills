{
 "cells": [
  {
   "cell_type": "markdown",
   "metadata": {},
   "source": [
    "# Azure AI Search Custom Skills Example\n",
    "\n",
    "This Python notebook demonstrates various powerful scenarios that customers can use in Azure AI Studio leveraging [custom web api skills](https://learn.microsoft.com/en-us/azure/search/cognitive-search-custom-skill-web-api) to search through multi-modal content.\n",
    "\n",
    "In this demo, we dip our toes into tackling the multi-modal content understanding scenario, by reducing the image + text modality (in rich text + image documents like PPTs, PDFs) into a text-only modality via verbalization.\n",
    "\n",
    "### Prerequisites\n",
    "An Azure subscription, with access to Azure OpenAI.\n",
    "\n",
    "Azure AI Search, any tier, but we recommend Basic or higher for this workload. \n",
    "\n",
    "A deployment of the text-embedding-3-small model on Azure OpenAI.\n",
    "\n",
    "Azure Blob Storage. This notebook connects to your storage account and loads a container with the sample PDFs and images.\n",
    "\n",
    "Deployed Azure functions to carry out the custom inference tasks with the various deployed language models used in this demo (gpt-4o, gpt-4o-mini, and phi)"
   ]
  },
  {
   "cell_type": "code",
   "execution_count": null,
   "metadata": {},
   "outputs": [],
   "source": [
    "print(\"Hello World\")"
   ]
  }
 ],
 "metadata": {
  "kernelspec": {
   "display_name": ".venv",
   "language": "python",
   "name": "python3"
  },
  "language_info": {
   "codemirror_mode": {
    "name": "ipython",
    "version": 3
   },
   "file_extension": ".py",
   "mimetype": "text/x-python",
   "name": "python",
   "nbconvert_exporter": "python",
   "pygments_lexer": "ipython3",
   "version": "3.11.7"
  }
 },
 "nbformat": 4,
 "nbformat_minor": 2
}
