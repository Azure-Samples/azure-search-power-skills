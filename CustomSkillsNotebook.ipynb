{
 "cells": [
  {
   "cell_type": "markdown",
   "metadata": {},
   "source": [
    "# Azure AI Search Custom Skills Example\n",
    "\n",
    "This Python notebook demonstrates various powerful scenarios that customers can use in Azure AI Studio leveraging [custom web api skills](https://learn.microsoft.com/en-us/azure/search/cognitive-search-custom-skill-web-api) to search through multi-modal content.\n",
    "\n",
    "In this demo, we dip our toes into tackling the multi-modal content understanding scenario, by reducing the image + text modality (in rich text + image documents like PPTs, PDFs) into a text-only modality via verbalization.\n",
    "\n",
    "### Prerequisites\n",
    "An Azure subscription, with access to Azure OpenAI.\n",
    "\n",
    "Azure AI Search, any tier, but we recommend Basic or higher for this workload. \n",
    "\n",
    "A deployment of the text-embedding-3-small model on Azure OpenAI.\n",
    "\n",
    "Azure Blob Storage. This notebook connects to your storage account and loads a container with the sample PDFs and images.\n",
    "\n",
    "Deployed Azure functions to carry out the custom inference tasks with the various deployed language models used in this demo (gpt-4o, gpt-4o-mini, and phi)\n",
    "\n",
    "### Install required packages\n"
   ]
  },
  {
   "cell_type": "code",
   "execution_count": null,
   "metadata": {},
   "outputs": [],
   "source": [
    "print(\"Starting the notebook execution\")\n",
    "! pip install -r azure-ai-search-custom-skills-sample-requirements.txt --quiet"
   ]
  },
  {
   "cell_type": "markdown",
   "metadata": {},
   "source": [
    "### Set up key variables"
   ]
  },
  {
   "cell_type": "code",
   "execution_count": null,
   "metadata": {},
   "outputs": [],
   "source": [
    "from dotenv import load_dotenv\n",
    "import os\n",
    "\n",
    "# load environment variables\n",
    "load_dotenv()\n",
    "blob_connection_string = os.getenv(\"BLOB_CONNECTION_STRING\")\n",
    "print(f'the blob connection string is: {blob_connection_string}')\n",
    "index_name = \"custom_skills_sample_index\"\n",
    "blob_container_name = \"custom-skills-sample-container\"\n"
   ]
  },
  {
   "cell_type": "markdown",
   "metadata": {},
   "source": [
    "## Connect to Blob Storage and load documents\n",
    "Retrieve documents from Blob Storage. You can use the sample documents in the data/documents folder."
   ]
  },
  {
   "cell_type": "code",
   "execution_count": null,
   "metadata": {},
   "outputs": [],
   "source": [
    "from azure.storage.blob import BlobServiceClient\n",
    "from azure.identity import DefaultAzureCredential \n",
    "import glob\n",
    "\n",
    "def upload_sample_documents(\n",
    "        blob_connection_string: str,\n",
    "        blob_container_name: str,\n",
    "        documents_directory: str,\n",
    "        # Set to false if you want to use credentials included in the blob connection string\n",
    "        # Otherwise your identity will be used as credentials\n",
    "        use_user_identity: bool = False,\n",
    "    ):\n",
    "        # Connect to Blob Storage\n",
    "        blob_service_client = BlobServiceClient.from_connection_string(logging_enable=True, conn_str=blob_connection_string, credential=DefaultAzureCredential() if use_user_identity else None)\n",
    "        # print(f\"blob_service_client is: {blob_service_client}\")\n",
    "        # print(f\"blob_container_name is: {blob_container_name}\")\n",
    "        container_client = blob_service_client.get_container_client(blob_container_name)\n",
    "        if not container_client.exists():\n",
    "            print(\"creating a NEW directory\")\n",
    "            container_client.create_container()\n",
    "        all_files = glob.glob(os.path.join(documents_directory))\n",
    "        print(f'all files are: {all_files}')\n",
    "        for file in all_files:\n",
    "            with open(file, \"rb\") as data:\n",
    "                name = os.path.basename(file)\n",
    "                if not container_client.get_blob_client(name).exists():\n",
    "                    container_client.upload_blob(name=name, data=data)\n",
    "\n",
    "def upload_documents():\n",
    "    print(f\"blob connection string is: {blob_connection_string}\")\n",
    "    upload_sample_documents(\n",
    "        blob_connection_string=blob_connection_string,\n",
    "        blob_container_name=blob_container_name,\n",
    "        documents_directory=os.path.join(\"data\", \"documents\")\n",
    "    )\n",
    "\n",
    "upload_documents()\n",
    "\n",
    "print(f\"Setup sample data in {blob_container_name}\")"
   ]
  }
 ],
 "metadata": {
  "kernelspec": {
   "display_name": ".venv",
   "language": "python",
   "name": "python3"
  },
  "language_info": {
   "codemirror_mode": {
    "name": "ipython",
    "version": 3
   },
   "file_extension": ".py",
   "mimetype": "text/x-python",
   "name": "python",
   "nbconvert_exporter": "python",
   "pygments_lexer": "ipython3",
   "version": "3.11.7"
  }
 },
 "nbformat": 4,
 "nbformat_minor": 2
}
