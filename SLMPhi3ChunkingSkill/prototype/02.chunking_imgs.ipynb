{
 "cells": [
  {
   "cell_type": "code",
   "execution_count": 1,
   "metadata": {},
   "outputs": [],
   "source": [
    "# ! pip install pypdf -U\n",
    "# ! pip install tabula-py -U"
   ]
  },
  {
   "cell_type": "code",
   "execution_count": 2,
   "metadata": {},
   "outputs": [],
   "source": [
    "import pypdf\n",
    "from tabula import read_pdf"
   ]
  },
  {
   "cell_type": "code",
   "execution_count": 3,
   "metadata": {},
   "outputs": [],
   "source": [
    "pdf_reader = pypdf.PdfReader('../pdf/modelcard.pdf')\n",
    "n_pages = len(pdf_reader.pages)"
   ]
  },
  {
   "cell_type": "code",
   "execution_count": 4,
   "metadata": {},
   "outputs": [
    {
     "data": {
      "text/plain": [
       "5"
      ]
     },
     "execution_count": 4,
     "metadata": {},
     "output_type": "execute_result"
    }
   ],
   "source": [
    "n_pages"
   ]
  },
  {
   "cell_type": "code",
   "execution_count": 5,
   "metadata": {},
   "outputs": [],
   "source": [
    "import os"
   ]
  },
  {
   "cell_type": "code",
   "execution_count": 6,
   "metadata": {},
   "outputs": [],
   "source": [
    "output_directory = '../imgs'"
   ]
  },
  {
   "cell_type": "code",
   "execution_count": 7,
   "metadata": {},
   "outputs": [],
   "source": [
    "if not os.path.exists(output_directory):\n",
    "    os.mkdir(output_directory)"
   ]
  },
  {
   "cell_type": "code",
   "execution_count": 8,
   "metadata": {},
   "outputs": [
    {
     "name": "stdout",
     "output_type": "stream",
     "text": [
      "{'/Type': '/Page', '/Resources': {'/ProcSet': ['/PDF', '/Text', '/ImageB', '/ImageC', '/ImageI'], '/ExtGState': {'/G3': IndirectObject(3, 0, 4494724048)}, '/Font': {'/F4': IndirectObject(4, 0, 4494724048), '/F5': IndirectObject(5, 0, 4494724048), '/F6': IndirectObject(6, 0, 4494724048), '/F7': IndirectObject(7, 0, 4494724048), '/F8': IndirectObject(8, 0, 4494724048), '/F9': IndirectObject(9, 0, 4494724048), '/F10': IndirectObject(10, 0, 4494724048), '/F11': IndirectObject(11, 0, 4494724048), '/F12': IndirectObject(12, 0, 4494724048), '/F13': IndirectObject(13, 0, 4494724048), '/F14': IndirectObject(14, 0, 4494724048), '/F15': IndirectObject(15, 0, 4494724048), '/F16': IndirectObject(16, 0, 4494724048), '/F17': IndirectObject(17, 0, 4494724048), '/F18': IndirectObject(18, 0, 4494724048)}}, '/MediaBox': [0, 0, 594.95996, 841.91998], '/Annots': [IndirectObject(19, 0, 4494724048), IndirectObject(20, 0, 4494724048), IndirectObject(21, 0, 4494724048), IndirectObject(22, 0, 4494724048)], '/Contents': IndirectObject(23, 0, 4494724048), '/StructParents': 0, '/Parent': IndirectObject(42, 0, 4494724048)}\n",
      "{'/Type': '/Page', '/Resources': {'/ProcSet': ['/PDF', '/Text', '/ImageB', '/ImageC', '/ImageI'], '/ExtGState': {'/G3': IndirectObject(3, 0, 4494724048), '/G25': IndirectObject(25, 0, 4494724048)}, '/Font': {'/F4': IndirectObject(4, 0, 4494724048), '/F10': IndirectObject(10, 0, 4494724048), '/F11': IndirectObject(11, 0, 4494724048), '/F12': IndirectObject(12, 0, 4494724048), '/F13': IndirectObject(13, 0, 4494724048), '/F14': IndirectObject(14, 0, 4494724048), '/F15': IndirectObject(15, 0, 4494724048), '/F17': IndirectObject(17, 0, 4494724048), '/F18': IndirectObject(18, 0, 4494724048), '/F26': IndirectObject(26, 0, 4494724048), '/F27': IndirectObject(27, 0, 4494724048), '/F28': IndirectObject(28, 0, 4494724048), '/F29': IndirectObject(29, 0, 4494724048), '/F30': IndirectObject(30, 0, 4494724048)}}, '/MediaBox': [0, 0, 594.95996, 841.91998], '/Annots': [IndirectObject(31, 0, 4494724048)], '/Contents': IndirectObject(32, 0, 4494724048), '/StructParents': 1, '/Parent': IndirectObject(42, 0, 4494724048)}\n",
      "{'/Type': '/Page', '/Resources': {'/ProcSet': ['/PDF', '/Text', '/ImageB', '/ImageC', '/ImageI'], '/ExtGState': {'/G3': IndirectObject(3, 0, 4494724048)}, '/Font': {'/F4': IndirectObject(4, 0, 4494724048), '/F10': IndirectObject(10, 0, 4494724048), '/F11': IndirectObject(11, 0, 4494724048), '/F12': IndirectObject(12, 0, 4494724048), '/F13': IndirectObject(13, 0, 4494724048), '/F14': IndirectObject(14, 0, 4494724048), '/F26': IndirectObject(26, 0, 4494724048), '/F27': IndirectObject(27, 0, 4494724048), '/F28': IndirectObject(28, 0, 4494724048), '/F29': IndirectObject(29, 0, 4494724048), '/F34': IndirectObject(34, 0, 4494724048)}}, '/MediaBox': [0, 0, 594.95996, 841.91998], '/Contents': IndirectObject(35, 0, 4494724048), '/StructParents': 2, '/Parent': IndirectObject(42, 0, 4494724048)}\n",
      "{'/Type': '/Page', '/Resources': {'/ProcSet': ['/PDF', '/Text', '/ImageB', '/ImageC', '/ImageI'], '/ExtGState': {'/G3': IndirectObject(3, 0, 4494724048)}, '/Font': {'/F4': IndirectObject(4, 0, 4494724048), '/F10': IndirectObject(10, 0, 4494724048), '/F11': IndirectObject(11, 0, 4494724048), '/F12': IndirectObject(12, 0, 4494724048), '/F13': IndirectObject(13, 0, 4494724048), '/F14': IndirectObject(14, 0, 4494724048), '/F26': IndirectObject(26, 0, 4494724048), '/F27': IndirectObject(27, 0, 4494724048), '/F28': IndirectObject(28, 0, 4494724048), '/F29': IndirectObject(29, 0, 4494724048), '/F34': IndirectObject(34, 0, 4494724048)}}, '/MediaBox': [0, 0, 594.95996, 841.91998], '/Contents': IndirectObject(37, 0, 4494724048), '/StructParents': 3, '/Parent': IndirectObject(42, 0, 4494724048)}\n",
      "{'/Type': '/Page', '/Resources': {'/ProcSet': ['/PDF', '/Text', '/ImageB', '/ImageC', '/ImageI'], '/ExtGState': {'/G3': IndirectObject(3, 0, 4494724048)}, '/Font': {'/F4': IndirectObject(4, 0, 4494724048), '/F10': IndirectObject(10, 0, 4494724048), '/F11': IndirectObject(11, 0, 4494724048), '/F12': IndirectObject(12, 0, 4494724048), '/F13': IndirectObject(13, 0, 4494724048), '/F14': IndirectObject(14, 0, 4494724048), '/F15': IndirectObject(15, 0, 4494724048), '/F16': IndirectObject(16, 0, 4494724048), '/F17': IndirectObject(17, 0, 4494724048), '/F18': IndirectObject(18, 0, 4494724048), '/F26': IndirectObject(26, 0, 4494724048), '/F27': IndirectObject(27, 0, 4494724048), '/F28': IndirectObject(28, 0, 4494724048), '/F29': IndirectObject(29, 0, 4494724048), '/F34': IndirectObject(34, 0, 4494724048), '/F39': IndirectObject(39, 0, 4494724048)}}, '/MediaBox': [0, 0, 594.95996, 841.91998], '/Annots': [IndirectObject(40, 0, 4494724048)], '/Contents': IndirectObject(41, 0, 4494724048), '/StructParents': 4, '/Parent': IndirectObject(42, 0, 4494724048)}\n"
     ]
    }
   ],
   "source": [
    "for page in pdf_reader.pages:\n",
    "    print(page)\n",
    "    # for image in page.images:\n",
    "    #     with open(os.path.join(output_directory,image.name), \"wb\") as fp:\n",
    "    #         fp.write(image.data)"
   ]
  },
  {
   "cell_type": "code",
   "execution_count": 9,
   "metadata": {},
   "outputs": [],
   "source": [
    "import json\n",
    "\n",
    "imgs = []\n",
    "page_num = []\n",
    "\n",
    "for page in pdf_reader.pages:\n",
    "    for image in page.images:\n",
    "        page_num = page.page_number+1\n",
    "        with open(os.path.join(output_directory,image.name), \"wb\") as fp:\n",
    "            fp.write(image.data)\n",
    "            page_info = {\n",
    "                \"page_number\": page_num,\n",
    "                \"image_path\": os.path.join(output_directory, image.name)\n",
    "            }\n",
    "            imgs.append(page_info)"
   ]
  },
  {
   "cell_type": "code",
   "execution_count": 10,
   "metadata": {},
   "outputs": [
    {
     "data": {
      "text/plain": [
       "[]"
      ]
     },
     "execution_count": 10,
     "metadata": {},
     "output_type": "execute_result"
    }
   ],
   "source": [
    "imgs"
   ]
  }
 ],
 "metadata": {
  "kernelspec": {
   "display_name": "pydev",
   "language": "python",
   "name": "python3"
  },
  "language_info": {
   "codemirror_mode": {
    "name": "ipython",
    "version": 3
   },
   "file_extension": ".py",
   "mimetype": "text/x-python",
   "name": "python",
   "nbconvert_exporter": "python",
   "pygments_lexer": "ipython3",
   "version": "3.11.8"
  }
 },
 "nbformat": 4,
 "nbformat_minor": 2
}
