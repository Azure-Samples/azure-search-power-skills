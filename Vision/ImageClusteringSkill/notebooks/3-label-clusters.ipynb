{
 "cells": [
  {
   "cell_type": "markdown",
   "metadata": {},
   "source": [
    "# Prepare labels dictionary\n",
    "\n",
    "This notebooks will help you to download the trained model, display cluster reports and label the clusters in an intercative way."
   ]
  },
  {
   "cell_type": "code",
   "execution_count": null,
   "metadata": {},
   "outputs": [],
   "source": [
    "%load_ext dotenv\n",
    "%dotenv\n",
    "%matplotlib inline\n",
    "\n",
    "import os\n",
    "from os.path import join\n",
    "import sys\n",
    "\n",
    "sys.path.append(\"../\")\n",
    "\n",
    "import argparse\n",
    "import tempfile\n",
    "import pickle\n",
    "\n",
    "import matplotlib.pyplot as plt\n",
    "\n",
    "from azureml.core.model import Model\n",
    "from azureml.core import Workspace\n",
    "\n",
    "from mlops.common.workspace import get_workspace\n",
    "from ml.utils.image import read_images_from_folder"
   ]
  },
  {
   "cell_type": "code",
   "execution_count": null,
   "metadata": {},
   "outputs": [],
   "source": [
    "# Restore AML workspace from config.json file (can be downloaded through the portal)\n",
    "ws = Workspace.from_config()\n",
    "print('Workspace name: ' + ws.name, \n",
    "      'Azure region: ' + ws.location, \n",
    "      'Subscription id: ' + ws.subscription_id, \n",
    "      'Resource group: ' + ws.resource_group, sep = '\\n')\n",
    "\n",
    "\n",
    "# Download your model\n",
    "model_name = \"YOUR_MODEL_NAME\"\n",
    "models_dir = \"../models\"\n",
    "\n",
    "model = Model(ws, model_name, version=None)\n",
    "model.download(models_dir)"
   ]
  },
  {
   "cell_type": "code",
   "execution_count": null,
   "metadata": {},
   "outputs": [],
   "source": [
    "# Label representatives of each cluster\n",
    "labels = {}\n",
    "\n",
    "report_folder = os.path.join(models_dir, \"outputs\", \"report\")\n",
    "clusters_images, clusters_names = read_images_from_folder(report_folder)\n",
    "\n",
    "for cluster_img, cluster_name in zip(clusters_images, clusters_names):\n",
    "    plt.imshow(cluster_img)\n",
    "    plt.show()\n",
    "    raw_labels = input(\"Please enter cluster labels (comma-separated)\")\n",
    "    cluster_id = int(cluster_name.split('_')[1])\n",
    "    labels_parsed = raw_labels.split(',')\n",
    "    if cluster_id == -1:\n",
    "        labels_parsed.append(\"noise points\")\n",
    "    labels[cluster_id] = labels_parsed\n",
    "    \n",
    "print(labels)\n",
    "pickle.dump(labels, open('labels.pickle', 'wb'))"
   ]
  }
 ],
 "metadata": {
  "kernelspec": {
   "display_name": "oneweek1",
   "language": "python",
   "name": "oneweek1"
  },
  "language_info": {
   "codemirror_mode": {
    "name": "ipython",
    "version": 3
   },
   "file_extension": ".py",
   "mimetype": "text/x-python",
   "name": "python",
   "nbconvert_exporter": "python",
   "pygments_lexer": "ipython3",
   "version": "3.7.9"
  }
 },
 "nbformat": 4,
 "nbformat_minor": 4
}